{
 "cells": [
  {
   "cell_type": "markdown",
   "metadata": {},
   "source": [
    "##  梯度下降法"
   ]
  },
  {
   "cell_type": "markdown",
   "metadata": {},
   "source": [
    "记住： 由于梯度下降法可能存在极值点，所以最优解可能是局部最优解，你必须将梯度下降的起始点进行多次随机，多次运行，来寻找全局最优点。\n",
    "梯度下降法的起始点也是一个超参数。"
   ]
  },
  {
   "cell_type": "markdown",
   "metadata": {},
   "source": [
    "因为是个线性，线性回归中的梯度下降法就是最优解了。"
   ]
  },
  {
   "cell_type": "code",
   "execution_count": 1,
   "metadata": {
    "collapsed": true
   },
   "outputs": [],
   "source": [
    "from pylab import *"
   ]
  },
  {
   "cell_type": "code",
   "execution_count": 2,
   "metadata": {
    "collapsed": true
   },
   "outputs": [],
   "source": [
    "px = np.linspace(-1,6,141)\n",
    "py = (px-2.5)**2 -1"
   ]
  },
  {
   "cell_type": "code",
   "execution_count": 3,
   "metadata": {},
   "outputs": [
    {
     "data": {
      "text/plain": [
       "array([-1.  , -0.95, -0.9 , -0.85, -0.8 , -0.75, -0.7 , -0.65, -0.6 ,\n",
       "       -0.55, -0.5 , -0.45, -0.4 , -0.35, -0.3 , -0.25, -0.2 , -0.15,\n",
       "       -0.1 , -0.05,  0.  ,  0.05,  0.1 ,  0.15,  0.2 ,  0.25,  0.3 ,\n",
       "        0.35,  0.4 ,  0.45,  0.5 ,  0.55,  0.6 ,  0.65,  0.7 ,  0.75,\n",
       "        0.8 ,  0.85,  0.9 ,  0.95,  1.  ,  1.05,  1.1 ,  1.15,  1.2 ,\n",
       "        1.25,  1.3 ,  1.35,  1.4 ,  1.45,  1.5 ,  1.55,  1.6 ,  1.65,\n",
       "        1.7 ,  1.75,  1.8 ,  1.85,  1.9 ,  1.95,  2.  ,  2.05,  2.1 ,\n",
       "        2.15,  2.2 ,  2.25,  2.3 ,  2.35,  2.4 ,  2.45,  2.5 ,  2.55,\n",
       "        2.6 ,  2.65,  2.7 ,  2.75,  2.8 ,  2.85,  2.9 ,  2.95,  3.  ,\n",
       "        3.05,  3.1 ,  3.15,  3.2 ,  3.25,  3.3 ,  3.35,  3.4 ,  3.45,\n",
       "        3.5 ,  3.55,  3.6 ,  3.65,  3.7 ,  3.75,  3.8 ,  3.85,  3.9 ,\n",
       "        3.95,  4.  ,  4.05,  4.1 ,  4.15,  4.2 ,  4.25,  4.3 ,  4.35,\n",
       "        4.4 ,  4.45,  4.5 ,  4.55,  4.6 ,  4.65,  4.7 ,  4.75,  4.8 ,\n",
       "        4.85,  4.9 ,  4.95,  5.  ,  5.05,  5.1 ,  5.15,  5.2 ,  5.25,\n",
       "        5.3 ,  5.35,  5.4 ,  5.45,  5.5 ,  5.55,  5.6 ,  5.65,  5.7 ,\n",
       "        5.75,  5.8 ,  5.85,  5.9 ,  5.95,  6.  ])"
      ]
     },
     "execution_count": 3,
     "metadata": {},
     "output_type": "execute_result"
    }
   ],
   "source": [
    "px"
   ]
  },
  {
   "cell_type": "code",
   "execution_count": 4,
   "metadata": {},
   "outputs": [
    {
     "data": {
      "text/plain": [
       "array([ 11.25  ,  10.9025,  10.56  ,  10.2225,   9.89  ,   9.5625,\n",
       "         9.24  ,   8.9225,   8.61  ,   8.3025,   8.    ,   7.7025,\n",
       "         7.41  ,   7.1225,   6.84  ,   6.5625,   6.29  ,   6.0225,\n",
       "         5.76  ,   5.5025,   5.25  ,   5.0025,   4.76  ,   4.5225,\n",
       "         4.29  ,   4.0625,   3.84  ,   3.6225,   3.41  ,   3.2025,\n",
       "         3.    ,   2.8025,   2.61  ,   2.4225,   2.24  ,   2.0625,\n",
       "         1.89  ,   1.7225,   1.56  ,   1.4025,   1.25  ,   1.1025,\n",
       "         0.96  ,   0.8225,   0.69  ,   0.5625,   0.44  ,   0.3225,\n",
       "         0.21  ,   0.1025,   0.    ,  -0.0975,  -0.19  ,  -0.2775,\n",
       "        -0.36  ,  -0.4375,  -0.51  ,  -0.5775,  -0.64  ,  -0.6975,\n",
       "        -0.75  ,  -0.7975,  -0.84  ,  -0.8775,  -0.91  ,  -0.9375,\n",
       "        -0.96  ,  -0.9775,  -0.99  ,  -0.9975,  -1.    ,  -0.9975,\n",
       "        -0.99  ,  -0.9775,  -0.96  ,  -0.9375,  -0.91  ,  -0.8775,\n",
       "        -0.84  ,  -0.7975,  -0.75  ,  -0.6975,  -0.64  ,  -0.5775,\n",
       "        -0.51  ,  -0.4375,  -0.36  ,  -0.2775,  -0.19  ,  -0.0975,\n",
       "         0.    ,   0.1025,   0.21  ,   0.3225,   0.44  ,   0.5625,\n",
       "         0.69  ,   0.8225,   0.96  ,   1.1025,   1.25  ,   1.4025,\n",
       "         1.56  ,   1.7225,   1.89  ,   2.0625,   2.24  ,   2.4225,\n",
       "         2.61  ,   2.8025,   3.    ,   3.2025,   3.41  ,   3.6225,\n",
       "         3.84  ,   4.0625,   4.29  ,   4.5225,   4.76  ,   5.0025,\n",
       "         5.25  ,   5.5025,   5.76  ,   6.0225,   6.29  ,   6.5625,\n",
       "         6.84  ,   7.1225,   7.41  ,   7.7025,   8.    ,   8.3025,\n",
       "         8.61  ,   8.9225,   9.24  ,   9.5625,   9.89  ,  10.2225,\n",
       "        10.56  ,  10.9025,  11.25  ])"
      ]
     },
     "execution_count": 4,
     "metadata": {},
     "output_type": "execute_result"
    }
   ],
   "source": [
    "py"
   ]
  },
  {
   "cell_type": "code",
   "execution_count": 5,
   "metadata": {},
   "outputs": [
    {
     "data": {
      "image/png": "[encoded data removed]",
      "text/plain": [
       "<matplotlib.figure.Figure at 0x8984b38>"
      ]
     },
     "metadata": {},
     "output_type": "display_data"
    }
   ],
   "source": [
    "plt.plot(px, py)\n",
    "plt.show()"
   ]
  },
  {
   "cell_type": "code",
   "execution_count": 6,
   "metadata": {
    "collapsed": true
   },
   "outputs": [],
   "source": [
    "def dj(theta):\n",
    "    return 2*(theta-2.5)\n",
    "\n",
    "def j(theta):\n",
    "    try:\n",
    "        return (theta-2.5)**2 - 1\n",
    "    except e:\n",
    "        retur float('inf')"
   ]
  },
  {
   "cell_type": "code",
   "execution_count": 7,
   "metadata": {},
   "outputs": [
    {
     "name": "stdout",
     "output_type": "stream",
     "text": [
      "2.499891109642585\n",
      "-0.99999998814289\n"
     ]
    }
   ],
   "source": [
    "# 梯度下降法\n",
    "theta=0.0\n",
    "eta = 0.1\n",
    "epsion = 1e-8  # min loss value\n",
    "while True:\n",
    "    gradient = dj(theta)\n",
    "    last_theta = theta\n",
    "    theta = theta - eta * gradient\n",
    "    \n",
    "    if( abs(j(theta)- j(last_theta)) < epsion):\n",
    "        break\n",
    "\n",
    "print(theta)\n",
    "print( j(theta) )\n",
    "    "
   ]
  },
  {
   "cell_type": "code",
   "execution_count": 15,
   "metadata": {},
   "outputs": [
    {
     "data": {
      "image/png": "[encoded data removed]",
      "text/plain": [
       "<matplotlib.figure.Figure at 0x89ebba8>"
      ]
     },
     "metadata": {},
     "output_type": "display_data"
    }
   ],
   "source": [
    "# 梯度下降法\n",
    "theta=0.0\n",
    "eta = 0.02\n",
    "epsion = 1e-8  # min loss value\n",
    "\n",
    "theta_history = [theta]\n",
    "imaxIter = 1000  # 最大迭代次数\n",
    "nIter=1\n",
    "while True:\n",
    "    gradient = dj(theta)\n",
    "    last_theta = theta\n",
    "    theta = theta - eta * gradient\n",
    "    theta_history.append(theta)\n",
    "    \n",
    "    if( abs(j(theta)- j(last_theta)) < epsion):\n",
    "        break\n",
    "    nIter +=1\n",
    "    if nIter > imaxIter:\n",
    "        break\n",
    "\n",
    "plt.plot(px, py)\n",
    "plt.plot(np.array(theta_history),j(np.array(theta_history)), color='r', marker='+')\n",
    "plt.show()"
   ]
  },
  {
   "cell_type": "code",
   "execution_count": null,
   "metadata": {
    "collapsed": true
   },
   "outputs": [],
   "source": []
  },
  {
   "cell_type": "code",
   "execution_count": null,
   "metadata": {
    "collapsed": true
   },
   "outputs": [],
   "source": []
  },
  {
   "cell_type": "code",
   "execution_count": null,
   "metadata": {
    "collapsed": true
   },
   "outputs": [],
   "source": []
  }
 ],
 "metadata": {
  "kernelspec": {
   "display_name": "Python 3",
   "language": "python",
   "name": "python3"
  },
  "language_info": {
   "codemirror_mode": {
    "name": "ipython",
    "version": 3
   },
   "file_extension": ".py",
   "mimetype": "text/x-python",
   "name": "python",
   "nbconvert_exporter": "python",
   "pygments_lexer": "ipython3",
   "version": "3.6.2"
  }
 },
 "nbformat": 4,
 "nbformat_minor": 2
}
