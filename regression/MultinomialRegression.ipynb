{
 "cells": [
  {
   "cell_type": "markdown",
   "metadata": {},
   "source": [
    "# 多项式回归、数据集划分和模型泛化"
   ]
  },
  {
   "cell_type": "markdown",
   "metadata": {},
   "source": [
    "也就是将原来的线性回归扩展为多项式回归，其实也就是在线性回归上添加了核函数。\n",
    "也就是将原来线性回归的假设模型：\n",
    "$$\n",
    "y=aX+b\n",
    "$$\n",
    "扩展为:\n",
    "$$\n",
    "y=a_1X^2+a_2X+b\n",
    "$$"
   ]
  },
  {
   "cell_type": "code",
   "execution_count": 1,
   "metadata": {
    "collapsed": true
   },
   "outputs": [],
   "source": [
    "from pylab import *"
   ]
  },
  {
   "cell_type": "code",
   "execution_count": 2,
   "metadata": {
    "collapsed": true
   },
   "outputs": [],
   "source": [
    "X = np.random.uniform(-3,3,size=100)\n",
    "X=X.reshape(1,-1)"
   ]
  },
  {
   "cell_type": "code",
   "execution_count": 3,
   "metadata": {},
   "outputs": [
    {
     "data": {
      "text/plain": [
       "(1, 100)"
      ]
     },
     "execution_count": 3,
     "metadata": {},
     "output_type": "execute_result"
    }
   ],
   "source": [
    "X.shape"
   ]
  },
  {
   "cell_type": "code",
   "execution_count": 4,
   "metadata": {
    "collapsed": true
   },
   "outputs": [],
   "source": [
    "y = 0.5 * X**2 +X+2+np.random.normal(0,1,size=100)"
   ]
  },
  {
   "cell_type": "code",
   "execution_count": 5,
   "metadata": {},
   "outputs": [
    {
     "data": {
      "text/plain": [
       "(1, 100)"
      ]
     },
     "execution_count": 5,
     "metadata": {},
     "output_type": "execute_result"
    }
   ],
   "source": [
    "y.shape"
   ]
  },
  {
   "cell_type": "code",
   "execution_count": 6,
   "metadata": {},
   "outputs": [
    {
     "data": {
      "image/png": "[encoded data removed]",
      "text/plain": [
       "<matplotlib.figure.Figure at 0x838e828>"
      ]
     },
     "metadata": {},
     "output_type": "display_data"
    }
   ],
   "source": [
    "plt.scatter(X,y)\n",
    "plt.show()"
   ]
  },
  {
   "cell_type": "code",
   "execution_count": 7,
   "metadata": {},
   "outputs": [
    {
     "data": {
      "text/plain": [
       "LinearRegression(copy_X=True, fit_intercept=True, n_jobs=1, normalize=False)"
      ]
     },
     "execution_count": 7,
     "metadata": {},
     "output_type": "execute_result"
    }
   ],
   "source": [
    "# 线性回归\n",
    "from sklearn.linear_model import LinearRegression\n",
    "\n",
    "lin_reg = LinearRegression()\n",
    "lin_reg.fit(X,y)"
   ]
  },
  {
   "cell_type": "code",
   "execution_count": 8,
   "metadata": {
    "collapsed": true
   },
   "outputs": [],
   "source": [
    "y_prediction = lin_reg.predict(X)"
   ]
  },
  {
   "cell_type": "code",
   "execution_count": 9,
   "metadata": {},
   "outputs": [
    {
     "data": {
      "text/plain": [
       "(1, 100)"
      ]
     },
     "execution_count": 9,
     "metadata": {},
     "output_type": "execute_result"
    }
   ],
   "source": [
    "y_prediction.shape"
   ]
  },
  {
   "cell_type": "code",
   "execution_count": 10,
   "metadata": {},
   "outputs": [
    {
     "data": {
      "image/png": "[encoded data removed]",
      "text/plain": [
       "<matplotlib.figure.Figure at 0x97b7c50>"
      ]
     },
     "metadata": {},
     "output_type": "display_data"
    }
   ],
   "source": [
    "#plt.scatter(X,y)\n",
    "plt.scatter(X,y_prediction,color='r')\n",
    "plt.show()"
   ]
  },
  {
   "cell_type": "markdown",
   "metadata": {},
   "source": [
    "注意：sklearn中的LinearRegression已经集成了多项式回归，所以这里我们就不做线性回归了。多项式回归注意sklearn提供的通用多项式核函数集成方法，主要是两个函数调用：  \n",
    "from sklearn.preprocessing import PolynomialFeatures\n",
    "from sklearn.pipeline import Pipeline\n",
    "  \n",
    "在数据预处理阶段由于数据中每一个维度的数据相差太大，需要预先做数据归一化。\n",
    "from sklearn.preprocessing import StandardScaler\n",
    "\n",
    "所以就形成了特征应用的基本步骤：  \n",
    "- 1.可能寻找多项式核函数\n",
    "- 2.必须使用归一化\n",
    "- 3.送入分类器训练\n",
    "  \n",
    "上述三个步骤可以用一个pipeline封装为符合sklearn调用的管道方式，进行一般性调用"
   ]
  },
  {
   "cell_type": "markdown",
   "metadata": {},
   "source": [
    "##  过拟合和欠拟合\n",
    "过拟合指的多项式中的degree太大\n",
    "欠拟合指的是多项式degree太小，如为0  \n",
    "测量方式可以通过调用  \n",
    "from  sklearn.metrics import mean_squared_error  \n",
    "越小越好"
   ]
  },
  {
   "cell_type": "code",
   "execution_count": 11,
   "metadata": {},
   "outputs": [
    {
     "data": {
      "text/plain": [
       "0.0"
      ]
     },
     "execution_count": 11,
     "metadata": {},
     "output_type": "execute_result"
    }
   ],
   "source": [
    "from  sklearn.metrics import mean_squared_error\n",
    "mean_squared_error(y,y_prediction)"
   ]
  },
  {
   "cell_type": "markdown",
   "metadata": {},
   "source": [
    "模型泛化能力的学习曲线  \n",
    "指的是分别画出训练结果模型在不同训练数据集下在训练集和测试集的预测结果；该结果为两个曲线，横轴为训练集数据，纵轴为mean_squared_error的方差值表示的错误率。测试集错误率总是高于训练集错误率。\n",
    "\n",
    "如果两个曲线之间距离较远，测试集方差值很大，且远高于训练集，表示模型过拟合；\n",
    "如果两个曲线之间距离较近，但是两个曲线的方差值较高，表示欠拟合。方差值较低，表示此时训练模型最好"
   ]
  },
  {
   "cell_type": "markdown",
   "metadata": {},
   "source": [
    "模型泛化指的是训练的结果模型在测试集上得到很好的预测效果。\n",
    "提高模型的泛化能力就必须将数据集分为训练集和测试集。\n",
    "但是如果用测试数据来调试模型参数，结果模型最终可能依赖于测试集。因此实际训练时，还需要验证集来调试参数，一般不再将训练集划分为训练集和验证集。而是使用10-folds交叉训练来自动划分训练集为训练集和验证集。验证集用来调整超参数。  \n",
    "sklearn提供了通用的交叉验证训练调参功能。"
   ]
  },
  {
   "cell_type": "markdown",
   "metadata": {},
   "source": [
    "# 交叉验证"
   ]
  },
  {
   "cell_type": "code",
   "execution_count": 12,
   "metadata": {
    "collapsed": true
   },
   "outputs": [],
   "source": [
    "from sklearn import datasets"
   ]
  },
  {
   "cell_type": "code",
   "execution_count": 13,
   "metadata": {
    "collapsed": true
   },
   "outputs": [],
   "source": [
    "digits = datasets.load_digits()\n",
    "X= digits.data\n",
    "y = digits.target"
   ]
  },
  {
   "cell_type": "markdown",
   "metadata": {},
   "source": [
    "### 基本数据集划分"
   ]
  },
  {
   "cell_type": "code",
   "execution_count": 14,
   "metadata": {
    "collapsed": true
   },
   "outputs": [],
   "source": [
    "from sklearn.model_selection import train_test_split\n",
    "x_train, x_test, y_train,y_test = train_test_split(X,y, test_size=0.4, random_state=666)"
   ]
  },
  {
   "cell_type": "code",
   "execution_count": 15,
   "metadata": {},
   "outputs": [
    {
     "name": "stdout",
     "output_type": "stream",
     "text": [
      "best k 3\n",
      "best p 4\n",
      "best score 0.986091794159\n"
     ]
    }
   ],
   "source": [
    "from sklearn.neighbors import KNeighborsClassifier\n",
    "\n",
    "best_score, best_p, best_k=0,0,0\n",
    "for k in range(2,11):\n",
    "    for p in range(1,6):\n",
    "        knn_clf = KNeighborsClassifier(weights='distance', n_neighbors=k, p=p)\n",
    "        knn_clf.fit(x_train, y_train)\n",
    "        score = knn_clf.score(x_test, y_test)\n",
    "        if score > best_score:\n",
    "            best_score, best_p, best_k = score, p,k\n",
    "            \n",
    "print('best k', best_k)\n",
    "print('best p', best_p)\n",
    "print('best score', best_score)\n",
    "        "
   ]
  },
  {
   "cell_type": "markdown",
   "metadata": {},
   "source": [
    "### 使用交叉验证"
   ]
  },
  {
   "cell_type": "code",
   "execution_count": 16,
   "metadata": {},
   "outputs": [
    {
     "data": {
      "text/plain": [
       "array([ 0.98895028,  0.97777778,  0.96629213])"
      ]
     },
     "execution_count": 16,
     "metadata": {},
     "output_type": "execute_result"
    }
   ],
   "source": [
    "from sklearn.model_selection import cross_val_score\n",
    "\n",
    "knn_clf = KNeighborsClassifier()\n",
    "cross_val_score(knn_clf, x_train, y_train)"
   ]
  },
  {
   "cell_type": "code",
   "execution_count": 17,
   "metadata": {},
   "outputs": [
    {
     "name": "stdout",
     "output_type": "stream",
     "text": [
      "best k 2\n",
      "best p 2\n",
      "best score 0.982359987401\n"
     ]
    }
   ],
   "source": [
    "best_score, best_p, best_k=0,0,0\n",
    "for k in range(2,11):\n",
    "    for p in range(1,6):\n",
    "        knn_clf = KNeighborsClassifier(weights='distance', n_neighbors=k, p=p)\n",
    "        scores = cross_val_score(knn_clf, x_train, y_train)  #在训练集的验证集上进行打分，等同于上边的测试集打分，调参\n",
    "        score = np.mean(scores)\n",
    "        if score > best_score:\n",
    "            best_score, best_p, best_k = score, p,k\n",
    "            \n",
    "print('best k', best_k)\n",
    "print('best p', best_p)\n",
    "print('best score', best_score)"
   ]
  },
  {
   "cell_type": "code",
   "execution_count": 18,
   "metadata": {},
   "outputs": [
    {
     "data": {
      "text/plain": [
       "0.98052851182197498"
      ]
     },
     "execution_count": 18,
     "metadata": {},
     "output_type": "execute_result"
    }
   ],
   "source": [
    "# 根据上边找出的最优的k，p建立最优的KNN模型，具有最好的泛化能力\n",
    "knn_clf = KNeighborsClassifier(weights='distance', n_neighbors=2, p=2)\n",
    "knn_clf.fit(x_train, y_train)\n",
    "knn_clf.score(x_test, y_test)"
   ]
  },
  {
   "cell_type": "markdown",
   "metadata": {},
   "source": [
    "# 所有的上述过程，可以通过sklearn提供的网格搜索来实现参数调优"
   ]
  },
  {
   "cell_type": "code",
   "execution_count": 19,
   "metadata": {},
   "outputs": [
    {
     "name": "stdout",
     "output_type": "stream",
     "text": [
      "Fitting 3 folds for each of 45 candidates, totalling 135 fits\n"
     ]
    },
    {
     "name": "stderr",
     "output_type": "stream",
     "text": [
      "[Parallel(n_jobs=1)]: Done 135 out of 135 | elapsed:  4.4min finished\n"
     ]
    },
    {
     "data": {
      "text/plain": [
       "GridSearchCV(cv=None, error_score='raise',\n",
       "       estimator=KNeighborsClassifier(algorithm='auto', leaf_size=30, metric='minkowski',\n",
       "           metric_params=None, n_jobs=1, n_neighbors=2, p=2,\n",
       "           weights='distance'),\n",
       "       fit_params=None, iid=True, n_jobs=1,\n",
       "       param_grid=[{'weights': ['distance'], 'n_neighbors': [2, 3, 4, 5, 6, 7, 8, 9, 10], 'p': [1, 2, 3, 4, 5]}],\n",
       "       pre_dispatch='2*n_jobs', refit=True, return_train_score=True,\n",
       "       scoring=None, verbose=1)"
      ]
     },
     "execution_count": 19,
     "metadata": {},
     "output_type": "execute_result"
    }
   ],
   "source": [
    "from sklearn.model_selection import GridSearchCV   # cv = cross_validate\n",
    "\n",
    "param_grid = [\n",
    "    {\n",
    "        'weights':['distance'],\n",
    "        'n_neighbors': [i for i in range(2,11)], #9\n",
    "        'p': [i for i in range(1,6)]             #5\n",
    "    }\n",
    "]\n",
    "\n",
    "grid_search = GridSearchCV(knn_clf, param_grid, verbose=1)\n",
    "grid_search.fit(x_train,y_train)"
   ]
  },
  {
   "cell_type": "code",
   "execution_count": 20,
   "metadata": {},
   "outputs": [
    {
     "data": {
      "text/plain": [
       "0.98237476808905377"
      ]
     },
     "execution_count": 20,
     "metadata": {},
     "output_type": "execute_result"
    }
   ],
   "source": [
    "grid_search.best_score_"
   ]
  },
  {
   "cell_type": "code",
   "execution_count": 21,
   "metadata": {},
   "outputs": [
    {
     "data": {
      "text/plain": [
       "{'n_neighbors': 2, 'p': 2, 'weights': 'distance'}"
      ]
     },
     "execution_count": 21,
     "metadata": {},
     "output_type": "execute_result"
    }
   ],
   "source": [
    "grid_search.best_params_"
   ]
  },
  {
   "cell_type": "code",
   "execution_count": 22,
   "metadata": {},
   "outputs": [
    {
     "data": {
      "text/plain": [
       "0.98052851182197498"
      ]
     },
     "execution_count": 22,
     "metadata": {},
     "output_type": "execute_result"
    }
   ],
   "source": [
    "best_knn=grid_search.best_estimator_\n",
    "best_knn.score(x_test, y_test)"
   ]
  },
  {
   "cell_type": "markdown",
   "metadata": {},
   "source": [
    "结果泛化能力很好，但是训练速度很慢"
   ]
  },
  {
   "cell_type": "markdown",
   "metadata": {},
   "source": [
    "#  偏差和方差的区别"
   ]
  },
  {
   "cell_type": "markdown",
   "metadata": {},
   "source": [
    "模型误差 = 偏差 + 方差 + 不可避免的误差  \n",
    "问题出现的原因：  \n",
    "偏差：模型假设不对、特征选择不对、欠拟合； 有些算法天生高偏差，所有的参数学习： 如线性回归  \n",
    "方差：过拟合，模型太复杂； 有些算法天生高方差，所有的非参数学习： 如kNN，决策树  \n",
    "降低偏差，就会提高方差；  \n",
    "降低方差，就会提高偏差；  \n",
    "解决高仿差：\n",
    "- 降低模型复杂\n",
    "- 减少数据维度，降噪\n",
    "- 增加样本\n",
    "- 使用验证集\n",
    "- 模型正则化"
   ]
  },
  {
   "cell_type": "markdown",
   "metadata": {},
   "source": [
    "关于模型正则化，要区分输入数据特征的归一化和模型自身的正则化。  \n",
    "数据特征归一化通过StandardScaler来解决。  \n",
    "模型的正则化是通过在loss function中添加正则项来解决。具体来说就是  \n",
    "预测模型中使用正则化($ L_2 $指正则项$ L_2 $，也可能是$ L_1 $, 指的是$ L_1 $正则)：  \n",
    "所求不再是$ J(\\theta) $,而是 $ J(\\theta)+\\alpha L_2 $  \n",
    "其中可以转化为求$ C \\cdot J(\\theta)+L_2 $  \n",
    "$ C = \\frac{1}{\\alpha} $\n"
   ]
  },
  {
   "cell_type": "markdown",
   "metadata": {},
   "source": [
    "其中$ L_2 $正则就是岭回归"
   ]
  },
  {
   "cell_type": "markdown",
   "metadata": {},
   "source": [
    "岭回归的正则化公式：  \n",
    "$$\n",
    "目标：使J(\\theta) = MSE(y,\\hat{y};\\theta)+\\alpha\\frac{1}{2}\\sum_{i=1}^n\\theta_i^2尽可能小\n",
    "$$\n",
    "LASSO回归的正则化公式：  \n",
    "$$\n",
    "目标：使J(\\theta) = MSE(y,\\hat{y};\\theta)+\\alpha\\sum_{i=1}^n |\\theta_i|尽可能小\n",
    "$$"
   ]
  },
  {
   "cell_type": "code",
   "execution_count": 23,
   "metadata": {
    "collapsed": true
   },
   "outputs": [],
   "source": [
    "# 岭回归\n",
    "from sklearn.linear_model import Ridge"
   ]
  },
  {
   "cell_type": "code",
   "execution_count": 26,
   "metadata": {},
   "outputs": [
    {
     "data": {
      "image/png": "[encoded data removed]",
      "text/plain": [
       "<matplotlib.figure.Figure at 0xb193fd0>"
      ]
     },
     "metadata": {},
     "output_type": "display_data"
    }
   ],
   "source": [
    "# %load ../pltboundary.py\n",
    "\"\"\"\n",
    "Created on Wed Jun 13 17:21:17 2018\n",
    "\n",
    "@author: xhj\n",
    "\"\"\"\n",
    "from pylab import *\n",
    "from sklearn import datasets\n",
    "\n",
    "def plot_decision_boundary(model, axis):\n",
    "    x0, x1 = np.meshgrid(\n",
    "            np.linspace(axis[0], axis[1], int((axis[1]-axis[0])*100)).reshape(-1,1),\n",
    "            np.linspace(axis[2], axis[3], int((axis[3]-axis[2])*100)).reshape(-1,1)\n",
    "            )\n",
    "    X_new = np.c_[x0.ravel(), x1.ravel()]\n",
    "    \n",
    "    y_predict = model.predict(X_new)\n",
    "    zz = y_predict.reshape(x0.shape)\n",
    "    \n",
    "    from matplotlib.colors import ListedColormap\n",
    "    custom_cmap = ListedColormap([ '#EF9A9A', '#FFF59D', '#90CAF9' ])\n",
    "    plt.contourf(x0, x1, zz, linewidth=5, cmap = custom_cmap)\n",
    "         \n",
    "\n",
    "# 添加多项式项目  核函数， pipeline\n",
    "from sklearn.pipeline import Pipeline\n",
    "from sklearn.preprocessing import PolynomialFeatures\n",
    "from sklearn.preprocessing import StandardScaler\n",
    "\n",
    "def PolynomialLogisticRegression(degree,C=1.0,penalty='l2'):\n",
    "    return Pipeline([\n",
    "        ('poly',PolynomialFeatures(degree=degree)),\n",
    "        ('std_scaler', StandardScaler()),\n",
    "        ('log_reg', LogisticRegression(C=C, penalty=penalty))\n",
    "    ])\n",
    "\n",
    "from sklearn.linear_model import Ridge\n",
    "def RidgeRegression(degree,alpha=1):\n",
    "    return Pipeline([\n",
    "        ('poly',PolynomialFeatures(degree=degree)),\n",
    "        ('std_scaler', StandardScaler()),\n",
    "        ('ridge_reg', Ridge(alpha=alpha))\n",
    "    ])\n",
    "\n",
    "from sklearn.linear_model import Lasso\n",
    "def LassoRegression(degree,alpha=1):\n",
    "    return Pipeline([\n",
    "        ('poly',PolynomialFeatures(degree=degree)),\n",
    "        ('std_scaler', StandardScaler()),\n",
    "        ('lasso_reg', Lasso(alpha=alpha))\n",
    "    ])\n",
    "\n",
    "\n",
    "if __name__ == '__main__':\n",
    "    iris = datasets.load_iris()\n",
    "    XXX = iris.data[:, 2:]\n",
    "    yyy = iris.target\n",
    "    from sklearn.tree import DecisionTreeClassifier\n",
    "\n",
    "    dt_clf = DecisionTreeClassifier(max_depth=2, criterion = \"entropy\")\n",
    "    dt_clf.fit(XXX,yyy)\n",
    "    plot_decision_boundary(dt_clf, axis= [0.5, 7.5, 0,3])\n",
    "\n",
    "    plt.scatter(XXX[yyy==0,0], XXX[yyy==0,1])\n",
    "    plt.scatter(XXX[yyy==1,0], XXX[yyy==1,1])\n",
    "    plt.scatter(XXX[yyy==2,0], XXX[yyy==2,1])\n",
    "    plt.show()\n",
    "                                  "
   ]
  },
  {
   "cell_type": "code",
   "execution_count": 25,
   "metadata": {},
   "outputs": [
    {
     "ename": "NameError",
     "evalue": "name 'RidgeRegression' is not defined",
     "output_type": "error",
     "traceback": [
      "\u001b[1;31m---------------------------------------------------------------------------\u001b[0m",
      "\u001b[1;31mNameError\u001b[0m                                 Traceback (most recent call last)",
      "\u001b[1;32m<ipython-input-25-f4e79931768d>\u001b[0m in \u001b[0;36m<module>\u001b[1;34m()\u001b[0m\n\u001b[1;32m----> 1\u001b[1;33m \u001b[0mridge_reg\u001b[0m \u001b[1;33m=\u001b[0m \u001b[0mRidgeRegression\u001b[0m\u001b[1;33m(\u001b[0m\u001b[1;36m20\u001b[0m\u001b[1;33m,\u001b[0m\u001b[1;36m0.0001\u001b[0m\u001b[1;33m)\u001b[0m\u001b[1;33m\u001b[0m\u001b[0m\n\u001b[0m\u001b[0;32m      2\u001b[0m \u001b[0mridge_reg\u001b[0m\u001b[1;33m.\u001b[0m\u001b[0mfit\u001b[0m\u001b[1;33m(\u001b[0m\u001b[0mx_train\u001b[0m\u001b[1;33m,\u001b[0m\u001b[0my_train\u001b[0m\u001b[1;33m)\u001b[0m\u001b[1;33m\u001b[0m\u001b[0m\n\u001b[0;32m      3\u001b[0m \u001b[1;33m\u001b[0m\u001b[0m\n\u001b[0;32m      4\u001b[0m \u001b[0my1_prediction\u001b[0m \u001b[1;33m=\u001b[0m \u001b[0mridge_reg\u001b[0m\u001b[1;33m.\u001b[0m\u001b[0mscore\u001b[0m\u001b[1;33m(\u001b[0m\u001b[0mx_test\u001b[0m\u001b[1;33m)\u001b[0m\u001b[1;33m\u001b[0m\u001b[0m\n\u001b[0;32m      5\u001b[0m \u001b[0mmean_squared_error\u001b[0m\u001b[1;33m(\u001b[0m\u001b[0my_test\u001b[0m\u001b[1;33m,\u001b[0m \u001b[0my1_prediction\u001b[0m\u001b[1;33m)\u001b[0m\u001b[1;33m\u001b[0m\u001b[0m\n",
      "\u001b[1;31mNameError\u001b[0m: name 'RidgeRegression' is not defined"
     ]
    }
   ],
   "source": [
    "ridge_reg = RidgeRegression(20,0.0001)\n",
    "ridge_reg.fit(x_train,y_train)\n",
    "\n",
    "y1_prediction = ridge_reg.score(x_test)\n",
    "mean_squared_error(y_test, y1_prediction)"
   ]
  },
  {
   "cell_type": "code",
   "execution_count": null,
   "metadata": {
    "collapsed": true
   },
   "outputs": [],
   "source": [
    "plot_decision_boundary(dt_clf, axis= [-3, 3, 0,6])\n",
    "plt.scatter(X,y)\n",
    "plt.show()"
   ]
  },
  {
   "cell_type": "markdown",
   "metadata": {},
   "source": [
    "#  LASSO 回归\n",
    "LASSO = least Absolute Shrinkage and Selection Operator Regression  \n",
    "通常LASSO训练出来的$ \\theta $中包含0，表示对应的特征在模型中不采用"
   ]
  },
  {
   "cell_type": "markdown",
   "metadata": {},
   "source": [
    "LASSO回归的正则化公式：  \n",
    "$$\n",
    "目标：使J(\\theta) = MSE(y,\\hat{y};\\theta)+\\alpha\\sum_{i=1}^n |\\theta_i|尽可能小\n",
    "$$"
   ]
  },
  {
   "cell_type": "code",
   "execution_count": null,
   "metadata": {
    "collapsed": true
   },
   "outputs": [],
   "source": [
    "lasso_reg = LassoRegression(20,0.01)\n",
    "lasso_reg.fit(x_train,y_train)\n",
    "\n",
    "y2_prediction = lasso_reg.score(x_test)\n",
    "mean_squared_error(y_test, y2_prediction)"
   ]
  },
  {
   "cell_type": "markdown",
   "metadata": {},
   "source": [
    "#  Ridge和LASSO混合就构成了弹性网络"
   ]
  },
  {
   "cell_type": "markdown",
   "metadata": {},
   "source": [
    "Ridge   MSE  欧拉距离    平方和  L2范数  \n",
    "LASSO   MAE  曼哈顿距离  绝对值  L1范数\n"
   ]
  },
  {
   "cell_type": "markdown",
   "metadata": {},
   "source": [
    "弹性网络就是求：  \n",
    "\n",
    "$$\n",
    "目标：使J(\\theta) = MSE(y,\\hat{y};\\theta)+r\\alpha\\sum_{i=1}^n |\\theta_i|+(1-r)\\frac{1}{2}\\alpha\\sum_{i=1}^n\\theta_i^2尽可能小\n",
    "$$"
   ]
  },
  {
   "cell_type": "code",
   "execution_count": null,
   "metadata": {
    "collapsed": true
   },
   "outputs": [],
   "source": []
  }
 ],
 "metadata": {
  "kernelspec": {
   "display_name": "Python 3",
   "language": "python",
   "name": "python3"
  },
  "language_info": {
   "codemirror_mode": {
    "name": "ipython",
    "version": 3
   },
   "file_extension": ".py",
   "mimetype": "text/x-python",
   "name": "python",
   "nbconvert_exporter": "python",
   "pygments_lexer": "ipython3",
   "version": "3.6.2"
  }
 },
 "nbformat": 4,
 "nbformat_minor": 2
}
