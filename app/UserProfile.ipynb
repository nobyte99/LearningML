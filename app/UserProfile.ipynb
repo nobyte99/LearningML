{
 "cells": [
  {
   "cell_type": "markdown",
   "metadata": {},
   "source": [
    "#  加油站前端数据分析--用户画像"
   ]
  },
  {
   "cell_type": "code",
   "execution_count": 1,
   "metadata": {
    "collapsed": true
   },
   "outputs": [],
   "source": [
    "from pylab import *\n",
    "import pandas as pd\n",
    "import scipy as sp\n",
    "#import pyecharts as es"
   ]
  },
  {
   "cell_type": "markdown",
   "metadata": {},
   "source": [
    "### 1、载入加油站的三个月本地数据\n",
    "载入加油站三个月本地到pandas的dataframe"
   ]
  },
  {
   "cell_type": "code",
   "execution_count": 2,
   "metadata": {
    "collapsed": true
   },
   "outputs": [],
   "source": [
    "import sqlite3\n",
    "conn = sqlite3.connect('xbxIOTGatherAppMainV3.db')\n",
    "sql = 'select * from tbIOTOilGatherMainTable '\n",
    "data = pd.read_sql(sql, conn)\n",
    "conn.close()"
   ]
  },
  {
   "cell_type": "code",
   "execution_count": 3,
   "metadata": {},
   "outputs": [
    {
     "data": {
      "text/html": [
       "<div>\n",
       "<style>\n",
       "    .dataframe thead tr:only-child th {\n",
       "        text-align: right;\n",
       "    }\n",
       "\n",
       "    .dataframe thead th {\n",
       "        text-align: left;\n",
       "    }\n",
       "\n",
       "    .dataframe tbody tr th {\n",
       "        vertical-align: top;\n",
       "    }\n",
       "</style>\n",
       "<table border=\"1\" class=\"dataframe\">\n",
       "  <thead>\n",
       "    <tr style=\"text-align: right;\">\n",
       "      <th></th>\n",
       "      <th>JYLX</th>\n",
       "      <th>GYRXM</th>\n",
       "      <th>CYZJDM</th>\n",
       "      <th>ZJHM</th>\n",
       "      <th>XBDM</th>\n",
       "      <th>MZDM</th>\n",
       "      <th>DZMC</th>\n",
       "      <th>JDCHPHM</th>\n",
       "      <th>YPLX</th>\n",
       "      <th>GYL</th>\n",
       "      <th>...</th>\n",
       "      <th>ZMCL5</th>\n",
       "      <th>ZMCL6</th>\n",
       "      <th>ZMCL7</th>\n",
       "      <th>ZMCL8</th>\n",
       "      <th>YPDJ</th>\n",
       "      <th>BDJG</th>\n",
       "      <th>JDCCLLXDM</th>\n",
       "      <th>JDCHPYS</th>\n",
       "      <th>iState</th>\n",
       "      <th>JYSJ</th>\n",
       "    </tr>\n",
       "  </thead>\n",
       "  <tbody>\n",
       "    <tr>\n",
       "      <th>0</th>\n",
       "      <td>02</td>\n",
       "      <td>吐尔逊·麦麦提</td>\n",
       "      <td>111</td>\n",
       "      <td>652901198106032815</td>\n",
       "      <td>男</td>\n",
       "      <td>维吾尔</td>\n",
       "      <td>新疆阿克苏市南城街道南郊路7号2巷45号</td>\n",
       "      <td>新N3Q850</td>\n",
       "      <td>12</td>\n",
       "      <td>5.26</td>\n",
       "      <td>...</td>\n",
       "      <td></td>\n",
       "      <td></td>\n",
       "      <td></td>\n",
       "      <td></td>\n",
       "      <td>5.7</td>\n",
       "      <td>0.909483</td>\n",
       "      <td>20</td>\n",
       "      <td>1</td>\n",
       "      <td>4</td>\n",
       "      <td>2017-08-27T16:44:37.803</td>\n",
       "    </tr>\n",
       "    <tr>\n",
       "      <th>1</th>\n",
       "      <td>01</td>\n",
       "      <td>玉苏甫江·麦提尼亚孜</td>\n",
       "      <td>111</td>\n",
       "      <td>652901199106073216</td>\n",
       "      <td>男</td>\n",
       "      <td>维吾尔</td>\n",
       "      <td>新疆阿克苏市拜什吐格曼乡玉素甫霍加艾日克村4组38号</td>\n",
       "      <td>新N8E045</td>\n",
       "      <td>12</td>\n",
       "      <td>6.06</td>\n",
       "      <td>...</td>\n",
       "      <td></td>\n",
       "      <td></td>\n",
       "      <td></td>\n",
       "      <td></td>\n",
       "      <td>6.6</td>\n",
       "      <td>0.889286</td>\n",
       "      <td>0</td>\n",
       "      <td>0</td>\n",
       "      <td>4</td>\n",
       "      <td>2018-02-19T11:56:08.313</td>\n",
       "    </tr>\n",
       "    <tr>\n",
       "      <th>2</th>\n",
       "      <td>02</td>\n",
       "      <td>周宏顺</td>\n",
       "      <td>111</td>\n",
       "      <td>432929196302070516</td>\n",
       "      <td>男</td>\n",
       "      <td>汉</td>\n",
       "      <td>湖南省双牌县五里牌镇线口村3组</td>\n",
       "      <td>新NK5565</td>\n",
       "      <td>12</td>\n",
       "      <td>7.69</td>\n",
       "      <td>...</td>\n",
       "      <td></td>\n",
       "      <td></td>\n",
       "      <td></td>\n",
       "      <td></td>\n",
       "      <td>6.5</td>\n",
       "      <td>0.688988</td>\n",
       "      <td>20</td>\n",
       "      <td>1</td>\n",
       "      <td>6</td>\n",
       "      <td>2018-03-28T13:22:48.991</td>\n",
       "    </tr>\n",
       "    <tr>\n",
       "      <th>3</th>\n",
       "      <td>01</td>\n",
       "      <td>童丽</td>\n",
       "      <td>111</td>\n",
       "      <td>652901197905080026</td>\n",
       "      <td>女</td>\n",
       "      <td>汉</td>\n",
       "      <td>新疆阿克苏市新华东路100号</td>\n",
       "      <td>新NHD669</td>\n",
       "      <td>12</td>\n",
       "      <td>15.38</td>\n",
       "      <td>...</td>\n",
       "      <td></td>\n",
       "      <td></td>\n",
       "      <td></td>\n",
       "      <td></td>\n",
       "      <td>6.5</td>\n",
       "      <td>0.803510</td>\n",
       "      <td>0</td>\n",
       "      <td>0</td>\n",
       "      <td>6</td>\n",
       "      <td>2018-03-28T13:22:58.071</td>\n",
       "    </tr>\n",
       "    <tr>\n",
       "      <th>4</th>\n",
       "      <td>01</td>\n",
       "      <td>陈学长</td>\n",
       "      <td>111</td>\n",
       "      <td>411024197302111671</td>\n",
       "      <td>男</td>\n",
       "      <td>汉</td>\n",
       "      <td>河南省鄢陵县张桥乡大路袁村９１号</td>\n",
       "      <td>豫KYZ209</td>\n",
       "      <td>12</td>\n",
       "      <td>3.08</td>\n",
       "      <td>...</td>\n",
       "      <td></td>\n",
       "      <td></td>\n",
       "      <td></td>\n",
       "      <td></td>\n",
       "      <td>6.5</td>\n",
       "      <td>0.707631</td>\n",
       "      <td>0</td>\n",
       "      <td>0</td>\n",
       "      <td>6</td>\n",
       "      <td>2018-03-28T13:23:07.535</td>\n",
       "    </tr>\n",
       "  </tbody>\n",
       "</table>\n",
       "<p>5 rows × 30 columns</p>\n",
       "</div>"
      ],
      "text/plain": [
       "  JYLX       GYRXM CYZJDM                ZJHM XBDM MZDM  \\\n",
       "0   02     吐尔逊·麦麦提    111  652901198106032815    男  维吾尔   \n",
       "1   01  玉苏甫江·麦提尼亚孜    111  652901199106073216    男  维吾尔   \n",
       "2   02         周宏顺    111  432929196302070516    男    汉   \n",
       "3   01          童丽    111  652901197905080026    女    汉   \n",
       "4   01         陈学长    111  411024197302111671    男    汉   \n",
       "\n",
       "                         DZMC  JDCHPHM YPLX    GYL           ...             \\\n",
       "0        新疆阿克苏市南城街道南郊路7号2巷45号  新N3Q850   12   5.26           ...              \n",
       "1  新疆阿克苏市拜什吐格曼乡玉素甫霍加艾日克村4组38号  新N8E045   12   6.06           ...              \n",
       "2             湖南省双牌县五里牌镇线口村3组  新NK5565   12   7.69           ...              \n",
       "3              新疆阿克苏市新华东路100号  新NHD669   12  15.38           ...              \n",
       "4            河南省鄢陵县张桥乡大路袁村９１号  豫KYZ209   12   3.08           ...              \n",
       "\n",
       "  ZMCL5 ZMCL6 ZMCL7 ZMCL8 YPDJ      BDJG JDCCLLXDM JDCHPYS iState  \\\n",
       "0                          5.7  0.909483        20       1      4   \n",
       "1                          6.6  0.889286         0       0      4   \n",
       "2                          6.5  0.688988        20       1      6   \n",
       "3                          6.5  0.803510         0       0      6   \n",
       "4                          6.5  0.707631         0       0      6   \n",
       "\n",
       "                      JYSJ  \n",
       "0  2017-08-27T16:44:37.803  \n",
       "1  2018-02-19T11:56:08.313  \n",
       "2  2018-03-28T13:22:48.991  \n",
       "3  2018-03-28T13:22:58.071  \n",
       "4  2018-03-28T13:23:07.535  \n",
       "\n",
       "[5 rows x 30 columns]"
      ]
     },
     "execution_count": 3,
     "metadata": {},
     "output_type": "execute_result"
    }
   ],
   "source": [
    "data.head()"
   ]
  },
  {
   "cell_type": "code",
   "execution_count": 4,
   "metadata": {},
   "outputs": [
    {
     "data": {
      "text/plain": [
       "Index(['JYLX', 'GYRXM', 'CYZJDM', 'ZJHM', 'XBDM', 'MZDM', 'DZMC', 'JDCHPHM',\n",
       "       'YPLX', 'GYL', 'JYY', 'YHBZ', 'CJSJ', 'ZJZP', 'CLZP', 'GYRYXCZP',\n",
       "       'ZMCL1', 'ZMCL2', 'ZMCL3', 'ZMCL4', 'ZMCL5', 'ZMCL6', 'ZMCL7', 'ZMCL8',\n",
       "       'YPDJ', 'BDJG', 'JDCCLLXDM', 'JDCHPYS', 'iState', 'JYSJ'],\n",
       "      dtype='object')"
      ]
     },
     "execution_count": 4,
     "metadata": {},
     "output_type": "execute_result"
    }
   ],
   "source": [
    "data.columns"
   ]
  },
  {
   "cell_type": "code",
   "execution_count": 5,
   "metadata": {},
   "outputs": [
    {
     "data": {
      "text/plain": [
       "JYLX                                                        02\n",
       "GYRXM                                                  吐尔逊·麦麦提\n",
       "CYZJDM                                                     111\n",
       "ZJHM                                        652901198106032815\n",
       "XBDM                                                         男\n",
       "MZDM                                                       维吾尔\n",
       "DZMC                                      新疆阿克苏市南城街道南郊路7号2巷45号\n",
       "JDCHPHM                                                新N3Q850\n",
       "YPLX                                                        12\n",
       "GYL                                                       5.26\n",
       "JYY                                                        武建军\n",
       "YHBZ                                               阿克苏金盛加油站管理员\n",
       "CJSJ                                   2017-08-27T16:41:58.653\n",
       "ZJZP                                img/652901198106032815.jpg\n",
       "CLZP                              plates/hc_453_1503823319.jpg\n",
       "GYRYXCZP     D:/OilInfoGatherClient/faces/reg_6529011981060...\n",
       "ZMCL1                                                         \n",
       "ZMCL2                                                         \n",
       "ZMCL3                                                         \n",
       "ZMCL4                                                         \n",
       "ZMCL5                                                         \n",
       "ZMCL6                                                         \n",
       "ZMCL7                                                         \n",
       "ZMCL8                                                         \n",
       "YPDJ                                                       5.7\n",
       "BDJG                                                  0.909483\n",
       "JDCCLLXDM                                                   20\n",
       "JDCHPYS                                                      1\n",
       "iState                                                       4\n",
       "JYSJ                                   2017-08-27T16:44:37.803\n",
       "Name: 0, dtype: object"
      ]
     },
     "execution_count": 5,
     "metadata": {},
     "output_type": "execute_result"
    }
   ],
   "source": [
    "data.iloc[0]"
   ]
  },
  {
   "cell_type": "code",
   "execution_count": 6,
   "metadata": {},
   "outputs": [
    {
     "data": {
      "text/plain": [
       "array(['02', '01', '00'], dtype=object)"
      ]
     },
     "execution_count": 6,
     "metadata": {},
     "output_type": "execute_result"
    }
   ],
   "source": [
    "data['JYLX'].unique()"
   ]
  },
  {
   "cell_type": "code",
   "execution_count": 7,
   "metadata": {},
   "outputs": [
    {
     "data": {
      "text/plain": [
       "(37022, 30)"
      ]
     },
     "execution_count": 7,
     "metadata": {},
     "output_type": "execute_result"
    }
   ],
   "source": [
    "data.shape"
   ]
  },
  {
   "cell_type": "code",
   "execution_count": 8,
   "metadata": {
    "collapsed": true
   },
   "outputs": [],
   "source": [
    "data['JYSJ'] = pd.to_datetime(data['JYSJ'],format='%Y-%m-%dT%H:%M:%S.%f')"
   ]
  },
  {
   "cell_type": "code",
   "execution_count": 9,
   "metadata": {},
   "outputs": [
    {
     "data": {
      "text/plain": [
       "0   2017-08-27 16:44:37.803\n",
       "1   2018-02-19 11:56:08.313\n",
       "2   2018-03-28 13:22:48.991\n",
       "3   2018-03-28 13:22:58.071\n",
       "4   2018-03-28 13:23:07.535\n",
       "Name: JYSJ, dtype: datetime64[ns]"
      ]
     },
     "execution_count": 9,
     "metadata": {},
     "output_type": "execute_result"
    }
   ],
   "source": [
    "data['JYSJ'].head()"
   ]
  },
  {
   "cell_type": "code",
   "execution_count": 13,
   "metadata": {
    "collapsed": true
   },
   "outputs": [],
   "source": [
    "data1=data.set_index(['JYSJ'])"
   ]
  },
  {
   "cell_type": "code",
   "execution_count": 14,
   "metadata": {
    "collapsed": true
   },
   "outputs": [],
   "source": [
    "data1.sort_index(inplace=True)"
   ]
  },
  {
   "cell_type": "code",
   "execution_count": 38,
   "metadata": {},
   "outputs": [],
   "source": [
    "data = data1[data1.index >'20180327']"
   ]
  },
  {
   "cell_type": "markdown",
   "metadata": {
    "collapsed": true
   },
   "source": [
    "### 2、对加油站数据进行预测\n",
    "载入加油站三个月本地到pandas的dataframe\n",
    "最终生成的DataFrame是包含三个月完整数据的；可以用来分星期进行加油数据的预测"
   ]
  },
  {
   "cell_type": "code",
   "execution_count": 40,
   "metadata": {},
   "outputs": [
    {
     "data": {
      "text/plain": [
       "(37020, 29)"
      ]
     },
     "execution_count": 40,
     "metadata": {},
     "output_type": "execute_result"
    }
   ],
   "source": [
    "data.shape"
   ]
  },
  {
   "cell_type": "code",
   "execution_count": null,
   "metadata": {
    "collapsed": true
   },
   "outputs": [],
   "source": []
  }
 ],
 "metadata": {
  "kernelspec": {
   "display_name": "Python 3",
   "language": "python",
   "name": "python3"
  },
  "language_info": {
   "codemirror_mode": {
    "name": "ipython",
    "version": 3
   },
   "file_extension": ".py",
   "mimetype": "text/x-python",
   "name": "python",
   "nbconvert_exporter": "python",
   "pygments_lexer": "ipython3",
   "version": "3.6.2"
  }
 },
 "nbformat": 4,
 "nbformat_minor": 2
}
