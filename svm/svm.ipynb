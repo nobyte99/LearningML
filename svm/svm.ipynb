{
 "cells": [
  {
   "cell_type": "markdown",
   "metadata": {},
   "source": [
    "# svm 支撑向量机\n",
    "解决分类问题，解决回归问题\n",
    "本质是寻找所有类之间的最佳决策超平面。所谓最佳就是不同分类中的决策超平面最近点到决策超平面之间的距离均相等，也就是说决策超平面处于各类最近点的正中间，各类最近点被称为各类的支撑向量。  \n",
    "最佳决策超平面的泛化效果最好。svm目的就是最大化margin；解决线性可分问题；  \n",
    "hard margin svm： 确实找到了一个决策边界  \n",
    "soft margin svm： 其实就是增加了限定条件的hard margin svm"
   ]
  },
  {
   "cell_type": "markdown",
   "metadata": {},
   "source": [
    "要最大化margin，也就是最大化d，最大化d类似于最大化支持向量到决策直线的距离：  \n",
    "点到直线的距离公式：  \n",
    "$$\n",
    "\\frac{| Ax+By+c |}{\\sqrt{A^2+B^2}}\n",
    "$$"
   ]
  },
  {
   "cell_type": "markdown",
   "metadata": {},
   "source": [
    "上述公式拓展到n维空间:  $ w^Tx +b = 0 $\n",
    "点到直线的距离：  \n",
    "$$\n",
    "\\frac{|w^Tx+b|}{\\|w\\|}\n",
    "$$"
   ]
  },
  {
   "cell_type": "markdown",
   "metadata": {},
   "source": [
    "最大化margin的公式从下式推导：\n",
    "$$\n",
    "\\begin{cases}\n",
    "\\frac{w^Tx+b}{\\|w\\|}\\geq{d}     &  \\forall{y^{(i)}}=1 \\\\\n",
    "\\frac{w^Tx+b}{\\|w\\|}\\leq{-d}    &  \\forall{y^{(i)}}=-1\n",
    "\\end{cases}\n",
    "$$\n",
    "可以转为：\n",
    "$$\n",
    "\\begin{cases}\n",
    "w_d^Tx+b_d\\geq{1}     &  \\forall{y^{(i)}}=1 \\\\\n",
    "w_d^Tx+b_d\\leq{-1}    &  \\forall{y^{(i)}}=-1\n",
    "\\end{cases}\n",
    "$$\n",
    "可以转化为：\n",
    "$$\n",
    "y^{(i)}(w^Tx^{(i)}+b)\\geq{1}    ,   (\\text 这里w，b和仅仅是个记号，等同于上边的w_d,b_d)\n",
    "$$\n",
    "因为上述的公式$ w_d^Tx+b_d={1(或者 -1)} $，所以支持向量到决策直线的距离就等同于是1，所以最大化margin就变成了最大化||w||\n",
    "$$\n",
    "max{\\frac{w^Tx+b}{\\|w\\|}}\n",
    "$$  \n",
    "等同于最大化  \n",
    "$$\n",
    "max{\\frac{1}{\\|w\\|}}\n",
    "$$  \n",
    "等同于最小化  \n",
    "$$\n",
    "min{\\|w\\|}\n",
    "$$  \n",
    "等同于在限定条件$ y^{(i)}(w^Tx^{(i)}+b)\\geq{1} $ 的条件下，求最小化   $ min{\\frac{1}{2}\\|w\\|^2} $   \n",
    "上述就是求解hard margin svm\n"
   ]
  },
  {
   "cell_type": "markdown",
   "metadata": {},
   "source": [
    "通常hard margin svm是不存在的，因此我们需要使用soft margin svm的求解方法，基于hard margin svm\n",
    "这里限定条件发生了变化，变为2个：  \n",
    "$ y^{(i)}(w^Tx^{(i)}+b)\\geq{1-\\zeta_i} , \\zeta_i\\geq{0} $  \n",
    "求最小化,其中C为引入的一个超参数：   \n",
    "$ min{\\frac{1}{2}\\|w\\|^2+C\\sum_{i=1}^{m}{\\zeta_i} } $， L1正则  \n",
    "$ min{\\frac{1}{2}\\|w\\|^2+C\\sum_{i=1}^{m}{\\zeta_i^2} } $， L2正则  "
   ]
  },
  {
   "cell_type": "markdown",
   "metadata": {},
   "source": [
    "超参数C越大，容错空间越小；C越小，则容错空间越大；"
   ]
  },
  {
   "cell_type": "markdown",
   "metadata": {},
   "source": [
    "## 使用SVM\n",
    "- 必须预先数据归一化\n"
   ]
  },
  {
   "cell_type": "code",
   "execution_count": 4,
   "metadata": {},
   "outputs": [],
   "source": [
    "from pylab import *\n",
    "from sklearn import datasets"
   ]
  },
  {
   "cell_type": "code",
   "execution_count": 5,
   "metadata": {},
   "outputs": [],
   "source": [
    "iris = datasets.load_iris()\n",
    "X = iris.data\n",
    "y = iris.target\n",
    "X = X[y<2, :2]\n",
    "y = y[y<2]"
   ]
  },
  {
   "cell_type": "code",
   "execution_count": 6,
   "metadata": {},
   "outputs": [
    {
     "data": {
      "image/png": "[encoded data removed]",
      "text/plain": [
       "<Figure size 432x288 with 1 Axes>"
      ]
     },
     "metadata": {},
     "output_type": "display_data"
    }
   ],
   "source": [
    "plt.scatter(X[y==0, 0], X[y==0, 1])\n",
    "plt.scatter(X[y==1, 0], X[y==1, 1])\n",
    "plt.show()"
   ]
  },
  {
   "cell_type": "code",
   "execution_count": 7,
   "metadata": {},
   "outputs": [],
   "source": [
    "from sklearn.preprocessing import StandardScaler\n",
    "\n",
    "stdScaler = StandardScaler()\n",
    "stdScaler.fit(X)\n",
    "x_std = stdScaler.transform(X)"
   ]
  },
  {
   "cell_type": "code",
   "execution_count": 9,
   "metadata": {},
   "outputs": [
    {
     "data": {
      "text/plain": [
       "LinearSVC(C=1000000000.0, class_weight=None, dual=True, fit_intercept=True,\n",
       "     intercept_scaling=1, loss='squared_hinge', max_iter=1000,\n",
       "     multi_class='ovr', penalty='l2', random_state=None, tol=0.0001,\n",
       "     verbose=0)"
      ]
     },
     "execution_count": 9,
     "metadata": {},
     "output_type": "execute_result"
    }
   ],
   "source": [
    "from sklearn.svm import LinearSVC # SVC用SV来Classify\n",
    "\n",
    "svc  = LinearSVC(C=1e9)\n",
    "svc.fit(x_std,y)"
   ]
  },
  {
   "cell_type": "code",
   "execution_count": 11,
   "metadata": {},
   "outputs": [
    {
     "name": "stderr",
     "output_type": "stream",
     "text": [
      "C:\\Anaconda3\\lib\\site-packages\\matplotlib\\contour.py:960: UserWarning: The following kwargs were not used by contour: 'linewidth'\n",
      "  s)\n"
     ]
    },
    {
     "data": {
      "image/png": "[encoded data removed]",
      "text/plain": [
       "<Figure size 432x288 with 1 Axes>"
      ]
     },
     "metadata": {},
     "output_type": "display_data"
    }
   ],
   "source": [
    "# %load ../pltboundary.py\n",
    "\"\"\"\n",
    "Created on Wed Jun 13 17:21:17 2018\n",
    "\n",
    "@author: xhj\n",
    "\"\"\"\n",
    "from pylab import *\n",
    "from sklearn import datasets\n",
    "\n",
    "def plot_decision_boundary(model, axis):\n",
    "    x0, x1 = np.meshgrid(\n",
    "            np.linspace(axis[0], axis[1], int((axis[1]-axis[0])*100)).reshape(-1,1),\n",
    "            np.linspace(axis[2], axis[3], int((axis[3]-axis[2])*100)).reshape(-1,1)\n",
    "            )\n",
    "    X_new = np.c_[x0.ravel(), x1.ravel()]\n",
    "    \n",
    "    y_predict = model.predict(X_new)\n",
    "    zz = y_predict.reshape(x0.shape)\n",
    "    \n",
    "    from matplotlib.colors import ListedColormap\n",
    "    custom_cmap = ListedColormap([ '#EF9A9A', '#FFF59D', '#90CAF9' ])\n",
    "    plt.contourf(x0, x1, zz, linewidth=5, cmap = custom_cmap)\n",
    "         \n",
    "\n",
    "# 添加多项式项目  核函数， pipeline\n",
    "from sklearn.pipeline import Pipeline\n",
    "from sklearn.preprocessing import PolynomialFeatures\n",
    "from sklearn.preprocessing import StandardScaler\n",
    "\n",
    "def PolynomialLogisticRegression(degree,C=1.0,penalty='l2'):\n",
    "    return Pipeline([\n",
    "        ('poly',PolynomialFeatures(degree=degree)),\n",
    "        ('std_scaler', StandardScaler()),\n",
    "        ('log_reg', LogisticRegression(C=C, penalty=penalty))\n",
    "    ])\n",
    "\n",
    "from sklearn.linear_model import Ridge\n",
    "def RidgeRegression(degree,alpha=1):\n",
    "    return Pipeline([\n",
    "        ('poly',PolynomialFeatures(degree=degree)),\n",
    "        ('std_scaler', StandardScaler()),\n",
    "        ('ridge_reg', Ridge(alpha=alpha))\n",
    "    ])\n",
    "\n",
    "from sklearn.linear_model import Lasso\n",
    "def LassoRegression(degree,alpha=1):\n",
    "    return Pipeline([\n",
    "        ('poly',PolynomialFeatures(degree=degree)),\n",
    "        ('std_scaler', StandardScaler()),\n",
    "        ('lasso_reg', Lasso(alpha=alpha))\n",
    "    ])\n",
    "\n",
    "\n",
    "if __name__ == '__main__':\n",
    "    iris = datasets.load_iris()\n",
    "    XXX = iris.data[:, 2:]\n",
    "    yyy = iris.target\n",
    "    from sklearn.tree import DecisionTreeClassifier\n",
    "\n",
    "    dt_clf = DecisionTreeClassifier(max_depth=2, criterion = \"entropy\")\n",
    "    dt_clf.fit(XXX,yyy)\n",
    "    plot_decision_boundary(dt_clf, axis= [0.5, 7.5, 0,3])\n",
    "\n",
    "    plt.scatter(XXX[yyy==0,0], XXX[yyy==0,1])\n",
    "    plt.scatter(XXX[yyy==1,0], XXX[yyy==1,1])\n",
    "    plt.scatter(XXX[yyy==2,0], XXX[yyy==2,1])\n",
    "    plt.show()\n",
    "                                  "
   ]
  },
  {
   "cell_type": "code",
   "execution_count": 13,
   "metadata": {},
   "outputs": [
    {
     "name": "stderr",
     "output_type": "stream",
     "text": [
      "C:\\Anaconda3\\lib\\site-packages\\matplotlib\\contour.py:960: UserWarning: The following kwargs were not used by contour: 'linewidth'\n",
      "  s)\n"
     ]
    },
    {
     "data": {
      "image/png": "[encoded data removed]",
      "text/plain": [
       "<Figure size 432x288 with 1 Axes>"
      ]
     },
     "metadata": {},
     "output_type": "display_data"
    }
   ],
   "source": [
    "plot_decision_boundary(svc, axis=[-3,3,-3,3])\n",
    "plt.scatter(x_std[y==0, 0], x_std[y==0, 1])\n",
    "plt.scatter(x_std[y==1, 0], x_std[y==1, 1])\n",
    "plt.show()"
   ]
  },
  {
   "cell_type": "code",
   "execution_count": 16,
   "metadata": {},
   "outputs": [
    {
     "data": {
      "text/plain": [
       "LinearSVC(C=0.01, class_weight=None, dual=True, fit_intercept=True,\n",
       "     intercept_scaling=1, loss='squared_hinge', max_iter=1000,\n",
       "     multi_class='ovr', penalty='l2', random_state=None, tol=0.0001,\n",
       "     verbose=0)"
      ]
     },
     "execution_count": 16,
     "metadata": {},
     "output_type": "execute_result"
    }
   ],
   "source": [
    "svc2  = LinearSVC(C=0.01) #使用了L2正则\n",
    "svc2.fit(x_std,y)"
   ]
  },
  {
   "cell_type": "code",
   "execution_count": 17,
   "metadata": {},
   "outputs": [
    {
     "name": "stderr",
     "output_type": "stream",
     "text": [
      "C:\\Anaconda3\\lib\\site-packages\\matplotlib\\contour.py:960: UserWarning: The following kwargs were not used by contour: 'linewidth'\n",
      "  s)\n"
     ]
    },
    {
     "data": {
      "image/png": "[encoded data removed]",
      "text/plain": [
       "<Figure size 432x288 with 1 Axes>"
      ]
     },
     "metadata": {},
     "output_type": "display_data"
    }
   ],
   "source": [
    "plot_decision_boundary(svc2, axis=[-3,3,-3,3])\n",
    "plt.scatter(x_std[y==0, 0], x_std[y==0, 1])\n",
    "plt.scatter(x_std[y==1, 0], x_std[y==1, 1])\n",
    "plt.show()"
   ]
  },
  {
   "cell_type": "code",
   "execution_count": 20,
   "metadata": {},
   "outputs": [],
   "source": [
    "# 找到支持向量，见11-4"
   ]
  },
  {
   "cell_type": "code",
   "execution_count": null,
   "metadata": {},
   "outputs": [],
   "source": []
  }
 ],
 "metadata": {
  "kernelspec": {
   "display_name": "Python 3",
   "language": "python",
   "name": "python3"
  },
  "language_info": {
   "codemirror_mode": {
    "name": "ipython",
    "version": 3
   },
   "file_extension": ".py",
   "mimetype": "text/x-python",
   "name": "python",
   "nbconvert_exporter": "python",
   "pygments_lexer": "ipython3",
   "version": "3.5.5"
  }
 },
 "nbformat": 4,
 "nbformat_minor": 2
}
