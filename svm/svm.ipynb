{
 "cells": [
  {
   "cell_type": "markdown",
   "metadata": {},
   "source": [
    "# svm 支撑向量机\n",
    "解决分类问题，解决回归问题\n",
    "本质是寻找所有类之间的最佳决策超平面。所谓最佳就是不同分类中的决策超平面最近点到决策超平面之间的距离均相等，也就是说决策超平面处于各类最近点的正中间，各类最近点被称为各类的支撑向量。  \n",
    "最佳决策超平面的泛化效果最好。svm目的就是最大化margin；解决线性可分问题；  \n",
    "hard margin svm： 确实找到了一个决策边界  \n",
    "soft margin svm： 其实就是增加了限定条件的hard margin svm"
   ]
  },
  {
   "cell_type": "markdown",
   "metadata": {},
   "source": [
    "要最大化margin，也就是最大化d，最大化d类似于最大化支持向量到决策直线的距离：  \n",
    "点到直线的距离公式：  \n",
    "$$\n",
    "\\frac{| Ax+By+c |}{\\sqrt{A^2+B^2}}\n",
    "$$"
   ]
  },
  {
   "cell_type": "markdown",
   "metadata": {},
   "source": [
    "上述公式拓展到n维空间:  $ w^Tx +b = 0 $\n",
    "点到直线的距离：  \n",
    "$$\n",
    "\\frac{|w^Tx+b|}{\\|w\\|}\n",
    "$$"
   ]
  },
  {
   "cell_type": "markdown",
   "metadata": {},
   "source": [
    "最大化margin的公式从下式推导：\n",
    "$$\n",
    "\\begin{cases}\n",
    "\\frac{w^Tx+b}{\\|w\\|}\\geq{d}     &  \\forall{y^{(i)}}=1 \\\\\n",
    "\\frac{w^Tx+b}{\\|w\\|}\\leq{-d}    &  \\forall{y^{(i)}}=-1\n",
    "\\end{cases}\n",
    "$$\n",
    "可以转为：\n",
    "$$\n",
    "\\begin{cases}\n",
    "w_d^Tx+b_d\\geq{1}     &  \\forall{y^{(i)}}=1 \\\\\n",
    "w_d^Tx+b_d\\leq{-1}    &  \\forall{y^{(i)}}=-1\n",
    "\\end{cases}\n",
    "$$\n",
    "可以转化为：\n",
    "$$\n",
    "y^{(i)}(w^Tx^{(i)}+b)\\geq{1}    ,   (\\text 这里w，b和仅仅是个记号，等同于上边的w_d,b_d)\n",
    "$$\n",
    "因为上述的公式$ w_d^Tx+b_d={1(或者 -1)} $，所以支持向量到决策直线的距离就等同于是1，所以最大化margin就变成了最大化||w||\n",
    "$$\n",
    "max{\\frac{w^Tx+b}{\\|w\\|}}\n",
    "$$  \n",
    "等同于最大化  \n",
    "$$\n",
    "max{\\frac{1}{\\|w\\|}}\n",
    "$$  \n",
    "等同于最小化  \n",
    "$$\n",
    "min{\\|w\\|}\n",
    "$$  \n",
    "等同于在限定条件$ y^{(i)}(w^Tx^{(i)}+b)\\geq{1} $ 的条件下，求最小化   $ min{\\frac{1}{2}\\|w\\|^2} $   \n",
    "上述就是求解hard margin svm\n"
   ]
  },
  {
   "cell_type": "markdown",
   "metadata": {},
   "source": [
    "通常hard margin svm是不存在的，因此我们需要使用soft margin svm的求解方法，基于hard margin svm\n",
    "这里限定条件发生了变化，变为2个：  \n",
    "$ y^{(i)}(w^Tx^{(i)}+b)\\geq{1-\\zeta_i} , \\zeta_i\\geq{0} $  \n",
    "求最小化,其中C为引入的一个超参数：   \n",
    "$ min{\\frac{1}{2}\\|w\\|^2+C\\sum_{i=1}^{m}{\\zeta_i} } $， L1正则  \n",
    "$ min{\\frac{1}{2}\\|w\\|^2+C\\sum_{i=1}^{m}{\\zeta_i^2} } $， L2正则  "
   ]
  },
  {
   "cell_type": "markdown",
   "metadata": {},
   "source": [
    "超参数C越大，容错空间越小；C越小，则容错空间越大；"
   ]
  },
  {
   "cell_type": "markdown",
   "metadata": {},
   "source": [
    "## 使用SVM\n",
    "- 必须预先数据归一化\n"
   ]
  },
  {
   "cell_type": "code",
   "execution_count": 7,
   "metadata": {
    "collapsed": true
   },
   "outputs": [],
   "source": [
    "from pylab import *\n",
    "from sklearn import datasets"
   ]
  },
  {
   "cell_type": "code",
   "execution_count": 8,
   "metadata": {
    "collapsed": true
   },
   "outputs": [],
   "source": [
    "iris = datasets.load_iris()\n",
    "X = iris.data\n",
    "y = iris.target\n",
    "X = X[y<2, :2]\n",
    "y = y[y<2]"
   ]
  },
  {
   "cell_type": "code",
   "execution_count": 9,
   "metadata": {},
   "outputs": [
    {
     "data": {
      "image/png": "[encoded data removed]",
      "text/plain": [
       "<matplotlib.figure.Figure at 0x92565f8>"
      ]
     },
     "metadata": {},
     "output_type": "display_data"
    }
   ],
   "source": [
    "plt.scatter(X[y==0, 0], X[y==0, 1])\n",
    "plt.scatter(X[y==1, 0], X[y==1, 1])\n",
    "plt.show()"
   ]
  },
  {
   "cell_type": "code",
   "execution_count": 10,
   "metadata": {
    "collapsed": true
   },
   "outputs": [],
   "source": [
    "from sklearn.preprocessing import StandardScaler\n",
    "\n",
    "stdScaler = StandardScaler()\n",
    "stdScaler.fit(X)\n",
    "x_std = stdScaler.transform(X)"
   ]
  },
  {
   "cell_type": "code",
   "execution_count": 11,
   "metadata": {},
   "outputs": [
    {
     "data": {
      "text/plain": [
       "LinearSVC(C=1000000000.0, class_weight=None, dual=True, fit_intercept=True,\n",
       "     intercept_scaling=1, loss='squared_hinge', max_iter=1000,\n",
       "     multi_class='ovr', penalty='l2', random_state=None, tol=0.0001,\n",
       "     verbose=0)"
      ]
     },
     "execution_count": 11,
     "metadata": {},
     "output_type": "execute_result"
    }
   ],
   "source": [
    "from sklearn.svm import LinearSVC # SVC用SV来Classify\n",
    "\n",
    "svc  = LinearSVC(C=1e9)\n",
    "svc.fit(x_std,y)"
   ]
  },
  {
   "cell_type": "code",
   "execution_count": 12,
   "metadata": {},
   "outputs": [
    {
     "data": {
      "image/png": "[encoded data removed]",
      "text/plain": [
       "<matplotlib.figure.Figure at 0xaa723c8>"
      ]
     },
     "metadata": {},
     "output_type": "display_data"
    }
   ],
   "source": [
    "# %load ../pltboundary.py\n",
    "\"\"\"\n",
    "Created on Wed Jun 13 17:21:17 2018\n",
    "\n",
    "@author: xhj\n",
    "\"\"\"\n",
    "from pylab import *\n",
    "from sklearn import datasets\n",
    "\n",
    "def plot_decision_boundary(model, axis):\n",
    "    x0, x1 = np.meshgrid(\n",
    "            np.linspace(axis[0], axis[1], int((axis[1]-axis[0])*100)).reshape(-1,1),\n",
    "            np.linspace(axis[2], axis[3], int((axis[3]-axis[2])*100)).reshape(-1,1)\n",
    "            )\n",
    "    X_new = np.c_[x0.ravel(), x1.ravel()]\n",
    "    \n",
    "    y_predict = model.predict(X_new)\n",
    "    zz = y_predict.reshape(x0.shape)\n",
    "    \n",
    "    from matplotlib.colors import ListedColormap\n",
    "    custom_cmap = ListedColormap([ '#EF9A9A', '#FFF59D', '#90CAF9' ])\n",
    "    plt.contourf(x0, x1, zz, linewidth=5, cmap = custom_cmap)\n",
    "         \n",
    "\n",
    "# 添加多项式项目  核函数， pipeline\n",
    "from sklearn.pipeline import Pipeline\n",
    "from sklearn.preprocessing import PolynomialFeatures\n",
    "from sklearn.preprocessing import StandardScaler\n",
    "\n",
    "def PolynomialLogisticRegression(degree,C=1.0,penalty='l2'):\n",
    "    return Pipeline([\n",
    "        ('poly',PolynomialFeatures(degree=degree)),\n",
    "        ('std_scaler', StandardScaler()),\n",
    "        ('log_reg', LogisticRegression(C=C, penalty=penalty))\n",
    "    ])\n",
    "\n",
    "from sklearn.linear_model import Ridge\n",
    "def RidgeRegression(degree,alpha=1):\n",
    "    return Pipeline([\n",
    "        ('poly',PolynomialFeatures(degree=degree)),\n",
    "        ('std_scaler', StandardScaler()),\n",
    "        ('ridge_reg', Ridge(alpha=alpha))\n",
    "    ])\n",
    "\n",
    "from sklearn.linear_model import Lasso\n",
    "def LassoRegression(degree,alpha=1):\n",
    "    return Pipeline([\n",
    "        ('poly',PolynomialFeatures(degree=degree)),\n",
    "        ('std_scaler', StandardScaler()),\n",
    "        ('lasso_reg', Lasso(alpha=alpha))\n",
    "    ])\n",
    "\n",
    "\n",
    "if __name__ == '__main__':\n",
    "    iris = datasets.load_iris()\n",
    "    XXX = iris.data[:, 2:]\n",
    "    yyy = iris.target\n",
    "    from sklearn.tree import DecisionTreeClassifier\n",
    "\n",
    "    dt_clf = DecisionTreeClassifier(max_depth=2, criterion = \"entropy\")\n",
    "    dt_clf.fit(XXX,yyy)\n",
    "    plot_decision_boundary(dt_clf, axis= [0.5, 7.5, 0,3])\n",
    "\n",
    "    plt.scatter(XXX[yyy==0,0], XXX[yyy==0,1])\n",
    "    plt.scatter(XXX[yyy==1,0], XXX[yyy==1,1])\n",
    "    plt.scatter(XXX[yyy==2,0], XXX[yyy==2,1])\n",
    "    plt.show()\n",
    "                                  "
   ]
  },
  {
   "cell_type": "code",
   "execution_count": 13,
   "metadata": {},
   "outputs": [
    {
     "data": {
      "image/png": "[encoded data removed]",
      "text/plain": [
       "<matplotlib.figure.Figure at 0xb3740f0>"
      ]
     },
     "metadata": {},
     "output_type": "display_data"
    }
   ],
   "source": [
    "plot_decision_boundary(svc, axis=[-3,3,-3,3])\n",
    "plt.scatter(x_std[y==0, 0], x_std[y==0, 1])\n",
    "plt.scatter(x_std[y==1, 0], x_std[y==1, 1])\n",
    "plt.show()"
   ]
  },
  {
   "cell_type": "code",
   "execution_count": 14,
   "metadata": {},
   "outputs": [
    {
     "data": {
      "text/plain": [
       "LinearSVC(C=0.01, class_weight=None, dual=True, fit_intercept=True,\n",
       "     intercept_scaling=1, loss='squared_hinge', max_iter=1000,\n",
       "     multi_class='ovr', penalty='l2', random_state=None, tol=0.0001,\n",
       "     verbose=0)"
      ]
     },
     "execution_count": 14,
     "metadata": {},
     "output_type": "execute_result"
    }
   ],
   "source": [
    "svc2  = LinearSVC(C=0.01) #使用了L2正则\n",
    "svc2.fit(x_std,y)"
   ]
  },
  {
   "cell_type": "code",
   "execution_count": 15,
   "metadata": {},
   "outputs": [
    {
     "data": {
      "image/png": "[encoded data removed]",
      "text/plain": [
       "<matplotlib.figure.Figure at 0xb0f2438>"
      ]
     },
     "metadata": {},
     "output_type": "display_data"
    }
   ],
   "source": [
    "plot_decision_boundary(svc2, axis=[-3,3,-3,3])\n",
    "plt.scatter(x_std[y==0, 0], x_std[y==0, 1])\n",
    "plt.scatter(x_std[y==1, 0], x_std[y==1, 1])\n",
    "plt.show()"
   ]
  },
  {
   "cell_type": "code",
   "execution_count": 16,
   "metadata": {
    "collapsed": true
   },
   "outputs": [],
   "source": [
    "# 找到支持向量，见11-4"
   ]
  },
  {
   "cell_type": "markdown",
   "metadata": {},
   "source": [
    "# 使用多项式核函数处理非线性边界"
   ]
  },
  {
   "cell_type": "code",
   "execution_count": 17,
   "metadata": {
    "collapsed": true
   },
   "outputs": [],
   "source": [
    "from  sklearn import datasets\n",
    "X,y = datasets.make_moons()"
   ]
  },
  {
   "cell_type": "code",
   "execution_count": 18,
   "metadata": {},
   "outputs": [
    {
     "data": {
      "text/plain": [
       "(100, 2)"
      ]
     },
     "execution_count": 18,
     "metadata": {},
     "output_type": "execute_result"
    }
   ],
   "source": [
    "X.shape"
   ]
  },
  {
   "cell_type": "code",
   "execution_count": 19,
   "metadata": {},
   "outputs": [
    {
     "data": {
      "text/plain": [
       "(100,)"
      ]
     },
     "execution_count": 19,
     "metadata": {},
     "output_type": "execute_result"
    }
   ],
   "source": [
    "y.shape"
   ]
  },
  {
   "cell_type": "code",
   "execution_count": 20,
   "metadata": {},
   "outputs": [
    {
     "data": {
      "image/png": "[encoded data removed]",
      "text/plain": [
       "<matplotlib.figure.Figure at 0xab7f4a8>"
      ]
     },
     "metadata": {},
     "output_type": "display_data"
    }
   ],
   "source": [
    "plt.scatter(X[y==0, 0], X[y==0, 1])\n",
    "plt.scatter(X[y==1, 0], X[y==1, 1])\n",
    "plt.show()"
   ]
  },
  {
   "cell_type": "code",
   "execution_count": 21,
   "metadata": {
    "collapsed": true
   },
   "outputs": [],
   "source": [
    "X,y = datasets.make_moons(noise=0.15, random_state=666)"
   ]
  },
  {
   "cell_type": "code",
   "execution_count": 22,
   "metadata": {},
   "outputs": [
    {
     "data": {
      "image/png": "[encoded data removed]",
      "text/plain": [
       "<matplotlib.figure.Figure at 0xac34940>"
      ]
     },
     "metadata": {},
     "output_type": "display_data"
    }
   ],
   "source": [
    "plt.scatter(X[y==0, 0], X[y==0, 1])\n",
    "plt.scatter(X[y==1, 0], X[y==1, 1])\n",
    "plt.show()"
   ]
  },
  {
   "cell_type": "code",
   "execution_count": 23,
   "metadata": {
    "collapsed": true
   },
   "outputs": [],
   "source": [
    "from sklearn.preprocessing import PolynomialFeatures, StandardScaler\n",
    "from sklearn.pipeline import Pipeline\n",
    "\n",
    "def PolynomialSVC(degree,C=1.0):\n",
    "    return Pipeline([\n",
    "        ('poly', PolynomialFeatures(degree=degree)),\n",
    "        ('std_scaler', StandardScaler()),\n",
    "        ('linearsvc', LinearSVC(C=C))\n",
    "    ]\n",
    "    )\n"
   ]
  },
  {
   "cell_type": "code",
   "execution_count": 24,
   "metadata": {
    "collapsed": true
   },
   "outputs": [],
   "source": [
    "ploy_svc = PolynomialSVC(degree=3)"
   ]
  },
  {
   "cell_type": "code",
   "execution_count": 25,
   "metadata": {},
   "outputs": [
    {
     "data": {
      "text/plain": [
       "Pipeline(memory=None,\n",
       "     steps=[('poly', PolynomialFeatures(degree=3, include_bias=True, interaction_only=False)), ('std_scaler', StandardScaler(copy=True, with_mean=True, with_std=True)), ('linearsvc', LinearSVC(C=1.0, class_weight=None, dual=True, fit_intercept=True,\n",
       "     intercept_scaling=1, loss='squared_hinge', max_iter=1000,\n",
       "     multi_class='ovr', penalty='l2', random_state=None, tol=0.0001,\n",
       "     verbose=0))])"
      ]
     },
     "execution_count": 25,
     "metadata": {},
     "output_type": "execute_result"
    }
   ],
   "source": [
    "ploy_svc.fit(X,y)"
   ]
  },
  {
   "cell_type": "code",
   "execution_count": 28,
   "metadata": {},
   "outputs": [
    {
     "data": {
      "image/png": "[encoded data removed]",
      "text/plain": [
       "<matplotlib.figure.Figure at 0xad57198>"
      ]
     },
     "metadata": {},
     "output_type": "display_data"
    }
   ],
   "source": [
    "plot_decision_boundary(ploy_svc, axis=[-1.5,2.5,-1,1.5])\n",
    "plt.scatter(X[y==0, 0], X[y==0, 1])\n",
    "plt.scatter(X[y==1, 0], X[y==1, 1])\n",
    "plt.show()"
   ]
  },
  {
   "cell_type": "markdown",
   "metadata": {},
   "source": [
    "#  使用多项式核的svc\n"
   ]
  },
  {
   "cell_type": "code",
   "execution_count": 29,
   "metadata": {
    "collapsed": true
   },
   "outputs": [],
   "source": [
    "from sklearn.svm import SVC\n",
    "\n",
    "def PolynomialSVC(degree,C=1.0):\n",
    "    return Pipeline([\n",
    "        ('std_scaler', StandardScaler()),\n",
    "        ('svc', SVC(kernel='poly', degree=degree, C=C))  #与上面先处理多项式特征计算过程不同。\n",
    "    ]\n",
    "    )"
   ]
  },
  {
   "cell_type": "code",
   "execution_count": 30,
   "metadata": {},
   "outputs": [
    {
     "data": {
      "text/plain": [
       "Pipeline(memory=None,\n",
       "     steps=[('std_scaler', StandardScaler(copy=True, with_mean=True, with_std=True)), ('svc', SVC(C=1.0, cache_size=200, class_weight=None, coef0=0.0,\n",
       "  decision_function_shape='ovr', degree=3, gamma='auto', kernel='poly',\n",
       "  max_iter=-1, probability=False, random_state=None, shrinking=True,\n",
       "  tol=0.001, verbose=False))])"
      ]
     },
     "execution_count": 30,
     "metadata": {},
     "output_type": "execute_result"
    }
   ],
   "source": [
    "ploy_svc = PolynomialSVC(degree=3)\n",
    "ploy_svc.fit(X,y)"
   ]
  },
  {
   "cell_type": "code",
   "execution_count": 31,
   "metadata": {},
   "outputs": [
    {
     "data": {
      "image/png": "[encoded data removed]",
      "text/plain": [
       "<matplotlib.figure.Figure at 0xaee40f0>"
      ]
     },
     "metadata": {},
     "output_type": "display_data"
    }
   ],
   "source": [
    "plot_decision_boundary(ploy_svc, axis=[-1.5,2.5,-1,1.5])\n",
    "plt.scatter(X[y==0, 0], X[y==0, 1])\n",
    "plt.scatter(X[y==1, 0], X[y==1, 1])\n",
    "plt.show()"
   ]
  },
  {
   "cell_type": "markdown",
   "metadata": {},
   "source": [
    "##  什么是核函数"
   ]
  },
  {
   "cell_type": "markdown",
   "metadata": {},
   "source": [
    "使用核函数就是避免对特征使用多项式，而是在最优化的过程中只要能够使用，就能够使用核函数，主要是SVM的优化过程中，核函数可以直接应用到最后的结果公式上，从而不必从头求特征的多项式结果。"
   ]
  },
  {
   "cell_type": "markdown",
   "metadata": {},
   "source": [
    "最有名的核函数：  \n",
    "高斯核函数  $ K(x,y) = e^{-\\gamma\\|x-y\\|^2} $   之所以称为高斯核函数，因为和高斯函数（正态分布）基本一样  \n",
    "高斯核函数也称为RBF核（radial Basis Function Kernel），也称为径向基函数，都是高斯核函数的别称。\n",
    "高斯核函数将每一个样本点映射到一个无穷维的特征空间  \n",
    "核函数的目的就是对数据升维，将线性不可分数据变为数据可分。\n"
   ]
  },
  {
   "cell_type": "code",
   "execution_count": 32,
   "metadata": {
    "collapsed": true
   },
   "outputs": [],
   "source": [
    "from sklearn.svm import SVC\n",
    "\n",
    "def RBFSVC(gamma=1.0):\n",
    "    return Pipeline([\n",
    "        ('std_scaler', StandardScaler()),\n",
    "        ('svc', SVC(kernel='rbf', gamma=gamma))  #与上面先处理多项式特征计算过程不同。\n",
    "    ]\n",
    "    )"
   ]
  },
  {
   "cell_type": "code",
   "execution_count": 38,
   "metadata": {},
   "outputs": [
    {
     "data": {
      "text/plain": [
       "Pipeline(memory=None,\n",
       "     steps=[('std_scaler', StandardScaler(copy=True, with_mean=True, with_std=True)), ('svc', SVC(C=1.0, cache_size=200, class_weight=None, coef0=0.0,\n",
       "  decision_function_shape='ovr', degree=3, gamma=1.0, kernel='rbf',\n",
       "  max_iter=-1, probability=False, random_state=None, shrinking=True,\n",
       "  tol=0.001, verbose=False))])"
      ]
     },
     "execution_count": 38,
     "metadata": {},
     "output_type": "execute_result"
    }
   ],
   "source": [
    "svc = RBFSVC(gamma=1.0)  # gamma低，欠拟合\n",
    "svc.fit(X,y)"
   ]
  },
  {
   "cell_type": "code",
   "execution_count": 39,
   "metadata": {},
   "outputs": [
    {
     "data": {
      "image/png": "[encoded data removed]",
      "text/plain": [
       "<matplotlib.figure.Figure at 0xb04f630>"
      ]
     },
     "metadata": {},
     "output_type": "display_data"
    }
   ],
   "source": [
    "plot_decision_boundary(svc, axis=[-1.5,2.5,-1,1.5])\n",
    "plt.scatter(X[y==0, 0], X[y==0, 1])\n",
    "plt.scatter(X[y==1, 0], X[y==1, 1])\n",
    "plt.show()"
   ]
  },
  {
   "cell_type": "code",
   "execution_count": 40,
   "metadata": {},
   "outputs": [
    {
     "data": {
      "text/plain": [
       "Pipeline(memory=None,\n",
       "     steps=[('std_scaler', StandardScaler(copy=True, with_mean=True, with_std=True)), ('svc', SVC(C=1.0, cache_size=200, class_weight=None, coef0=0.0,\n",
       "  decision_function_shape='ovr', degree=3, gamma=100.0, kernel='rbf',\n",
       "  max_iter=-1, probability=False, random_state=None, shrinking=True,\n",
       "  tol=0.001, verbose=False))])"
      ]
     },
     "execution_count": 40,
     "metadata": {},
     "output_type": "execute_result"
    }
   ],
   "source": [
    "svc100 = RBFSVC(gamma=100.0)  # 过拟合， gamma高，过拟合\n",
    "svc100.fit(X,y)"
   ]
  },
  {
   "cell_type": "code",
   "execution_count": 41,
   "metadata": {},
   "outputs": [
    {
     "data": {
      "image/png": "[encoded data removed]",
      "text/plain": [
       "<matplotlib.figure.Figure at 0xb0358d0>"
      ]
     },
     "metadata": {},
     "output_type": "display_data"
    }
   ],
   "source": [
    "plot_decision_boundary(svc100, axis=[-1.5,2.5,-1,1.5])\n",
    "plt.scatter(X[y==0, 0], X[y==0, 1])\n",
    "plt.scatter(X[y==1, 0], X[y==1, 1])\n",
    "plt.show()"
   ]
  },
  {
   "cell_type": "code",
   "execution_count": 42,
   "metadata": {},
   "outputs": [
    {
     "data": {
      "text/plain": [
       "Pipeline(memory=None,\n",
       "     steps=[('std_scaler', StandardScaler(copy=True, with_mean=True, with_std=True)), ('svc', SVC(C=1.0, cache_size=200, class_weight=None, coef0=0.0,\n",
       "  decision_function_shape='ovr', degree=3, gamma=10.0, kernel='rbf',\n",
       "  max_iter=-1, probability=False, random_state=None, shrinking=True,\n",
       "  tol=0.001, verbose=False))])"
      ]
     },
     "execution_count": 42,
     "metadata": {},
     "output_type": "execute_result"
    }
   ],
   "source": [
    "svc10 = RBFSVC(gamma=10.0)\n",
    "svc10.fit(X,y)"
   ]
  },
  {
   "cell_type": "code",
   "execution_count": 43,
   "metadata": {},
   "outputs": [
    {
     "data": {
      "image/png": "[encoded data removed]",
      "text/plain": [
       "<matplotlib.figure.Figure at 0xabb0e10>"
      ]
     },
     "metadata": {},
     "output_type": "display_data"
    }
   ],
   "source": [
    "plot_decision_boundary(svc10, axis=[-1.5,2.5,-1,1.5])\n",
    "plt.scatter(X[y==0, 0], X[y==0, 1])\n",
    "plt.scatter(X[y==1, 0], X[y==1, 1])\n",
    "plt.show()"
   ]
  },
  {
   "cell_type": "markdown",
   "metadata": {},
   "source": [
    "#  svm解决回归问题"
   ]
  },
  {
   "cell_type": "code",
   "execution_count": 48,
   "metadata": {
    "collapsed": true
   },
   "outputs": [],
   "source": [
    "boston = datasets.load_boston()\n",
    "X = boston.data\n",
    "y = boston.target"
   ]
  },
  {
   "cell_type": "code",
   "execution_count": 50,
   "metadata": {},
   "outputs": [],
   "source": [
    "from sklearn.model_selection import train_test_split\n",
    "x_train, x_test, y_train,y_test = train_test_split(X,y, random_state=666)"
   ]
  },
  {
   "cell_type": "code",
   "execution_count": 64,
   "metadata": {
    "collapsed": true
   },
   "outputs": [],
   "source": [
    "from sklearn.svm import SVR\n",
    "from sklearn.svm import LinearSVR\n",
    "\n",
    "def standLinearSVR(epsilon=0.1):\n",
    "     return Pipeline([\n",
    "        ('std_scaler', StandardScaler()),\n",
    "        ('svc', LinearSVR(epsilon=epsilon))  #与上面先处理多项式特征计算过程不同。\n",
    "    ]\n",
    "    )"
   ]
  },
  {
   "cell_type": "code",
   "execution_count": 75,
   "metadata": {},
   "outputs": [
    {
     "data": {
      "text/plain": [
       "Pipeline(memory=None,\n",
       "     steps=[('std_scaler', StandardScaler(copy=True, with_mean=True, with_std=True)), ('svc', LinearSVR(C=3, dual=True, epsilon=0.6, fit_intercept=True,\n",
       "     intercept_scaling=1.0, loss='epsilon_insensitive', max_iter=1000,\n",
       "     random_state=None, tol=0.0001, verbose=0))])"
      ]
     },
     "execution_count": 75,
     "metadata": {},
     "output_type": "execute_result"
    }
   ],
   "source": [
    "svr  = standLinearSVR(epsilon=0.6)\n",
    "svr.fit(x_train, y_train)"
   ]
  },
  {
   "cell_type": "code",
   "execution_count": 76,
   "metadata": {},
   "outputs": [
    {
     "data": {
      "text/plain": [
       "0.64017256909433662"
      ]
     },
     "execution_count": 76,
     "metadata": {},
     "output_type": "execute_result"
    }
   ],
   "source": [
    "svr.score(x_test, y_test)"
   ]
  },
  {
   "cell_type": "code",
   "execution_count": null,
   "metadata": {
    "collapsed": true
   },
   "outputs": [],
   "source": []
  }
 ],
 "metadata": {
  "kernelspec": {
   "display_name": "Python 3",
   "language": "python",
   "name": "python3"
  },
  "language_info": {
   "codemirror_mode": {
    "name": "ipython",
    "version": 3
   },
   "file_extension": ".py",
   "mimetype": "text/x-python",
   "name": "python",
   "nbconvert_exporter": "python",
   "pygments_lexer": "ipython3",
   "version": "3.6.2"
  }
 },
 "nbformat": 4,
 "nbformat_minor": 2
}
